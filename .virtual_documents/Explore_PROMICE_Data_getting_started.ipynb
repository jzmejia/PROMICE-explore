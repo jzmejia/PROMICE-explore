





# import packages
import pypromice.get as pget
import pandas as pd
import matplotlib.pyplot as plt


# see what data is available for download through pypromice
pget.aws_names()


# download data

# request hourly AWS data from station NSE (this command will produce a DataFrame named "nse"
nse = pget.aws_data("nse_hour.csv")

# type the name of your data frame (or other object) at the end of a box or on its own to view the data
nse








nse.columns


# to view data from one of these columns you can use a command like the following:
# nse["lat"] or nse.lat (here, nse is the name of our data frame and "lat" is the column name

# you have returned a new object called a pandas.Series object 
nse["lat"]


# plot and visualize data
fig, ax = plt.subplots(nrows=1,ncols=2,figsize=(10,4),constrained_layout=True)
# ax[0].figure(figsize=(6,4))
ax[0].plot(nse.gps_lat,nse.gps_lon,'.',label='NSE measured')
ax[0].set_ylabel('longitude (deg)')
ax[0].set_xlabel('latitude (deg)')
ax[0].legend()
fig.suptitle('NSE positions')


# plt.figure(figsize=(6,4))
ax[1].plot(nse.lat,nse.lon,'.',color='tab:orange', label='NSE: smoothed and interpolated')
ax[1].set_ylabel('longitude (deg)')
ax[1].set_xlabel('latitude (deg)')
ax[1].legend()




fig2, ax = plt.subplots(nrows=2,ncols=2,figsize=(12,6),constrained_layout=True)
fig2.suptitle('NSE timeseries')
# plot gps lat with respect to time in top left panel of subplot
ax[0,0].plot(nse.gps_lat,'.',label='NSE measured')
ax[0,0].set_ylabel('latitude (deg)')

# plot gps lat and smoothed data with respect to time in top right panel of subplot
ax[0,1].plot(nse.gps_lat,'.',label='NSE measured')
ax[0,1].plot(nse.lat,'.',label='NSE: smoothed and interpolated')
ax[0,1].set_ylabel('latitude (deg)')

# plot gps longitude with respect to time in bottom left panel of subplot
ax[1,0].plot(nse.gps_lon,'.',label='NSE measured')
ax[1,0].set_ylabel('longitude (deg)')

# plot gps longitude and smoothed data with respect to time in bottom right panel of subplot
ax[1,1].plot(nse.gps_lon,'.',label='NSE measured')
ax[1,1].plot(nse.lon,'.',label='NSE: smoothed and interpolated')
ax[1,1].set_ylabel('longitude (deg)')

# add the legend to all subplots in the figure
for axs in ax.flat:
    axs.legend()







plt.figure()
plt.plot(nse.gps_lat,nse.gps_lon,'.',label='NSE measured')
plt.plot(nse.lat['2021':],nse.lon['2021':],'.',label='NSE: smoothed and interpolated')
plt.ylabel('longitude (deg)')
plt.xlabel('latitude (deg)')
plt.legend()






